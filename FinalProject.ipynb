{
 "cells": [
  {
   "cell_type": "markdown",
   "metadata": {},
   "source": [
    "# PROBLEMS\n",
    "\n",
    "## PROBLEM 1: KIDS GAME\n",
    "\n",
    "Develop a simple game that tests 3rd to 4th-grade students on how well they can solve problems involving division with integer numbers.\n",
    "\n",
    "Your function `game()` will take an integer `n` as input and then ask `n` division questions. The numbers to be divided should be chosen randomly such that:\n",
    "\n",
    "- The divisor should be in the range [1, 9] (i.e., 1 to 9 inclusive).\n",
    "- The dividend should be in the range [9, 1000] (i.e., 9 to 1000 inclusive).\n",
    "\n",
    "The user will enter the answer for both the quotient and remainder when prompted. Your function should print 'Correct' for correct answers and 'Incorrect' for incorrect answers. After `n` questions, your function should print the number of correct\n"
   ]
  },
  {
   "cell_type": "code",
   "execution_count": 4,
   "metadata": {},
   "outputs": [],
   "source": [
    "import random \n",
    "\n",
    "#define the game function\n",
    "def game(number_try):\n",
    "#for loop to numbers of try\n",
    "    for i in range(number_try):\n",
    "#random number from 9 to 100 \n",
    "        divisor = random.randint(9,100)\n",
    "#random number from 1 to 9\n",
    "        dividend = random.randint(1,9)\n",
    "        print (f\"{divisor} / {dividend}\")\n",
    "#calculate the quotient and remainder\n",
    "        quotient = divisor/dividend\n",
    "        remainder = divisor % dividend\n",
    "#Compare the quotient and remainder with user inputs\n",
    "        user_result_quotient = float(input(\"Enter the quotient: \"))\n",
    "        user_result_remainder = float(input(\"Enter the remainder: \"))\n",
    "        if (abs (user_result_quotient - quotient) <0.001) and user_result_remainder == remainder:\n",
    "            print(\"Correct.\")\n",
    "        else: print(\"Incorrect.\")"
   ]
  },
  {
   "cell_type": "code",
   "execution_count": 5,
   "metadata": {},
   "outputs": [
    {
     "name": "stdout",
     "output_type": "stream",
     "text": [
      "34 / 8\n",
      "Correct.\n",
      "79 / 6\n",
      "Correct.\n",
      "66 / 5\n",
      "Incorrect.\n",
      "38 / 2\n",
      "Incorrect.\n",
      "68 / 3\n",
      "Incorrect.\n"
     ]
    }
   ],
   "source": [
    "game(5)"
   ]
  },
  {
   "cell_type": "markdown",
   "metadata": {},
   "source": [
    "\n",
    "# PROBLEM 2\n",
    "\n",
    "## 2a)\n",
    "\n",
    "Suppose you want to find the slope between two points in 2-Dimensional Space (2D), namely `point_a` and `point_b` such that `point_a` is (a, f(a)) and `point_b` is (b, f(b)) where f(x) = x^2 + 3x – 7.\n",
    "\n",
    "- Enter the one-line lambda function `f(x) = x^2 + 3x – 7`.\n",
    "  \n",
    "- Create a function `g(a, b)` that will find the slope between two points, `x = a` and `x = b` on `f(x)`.\n",
    "\n",
    "- Use `g` to find the slope between `x @ a = 5` and `x @ b = 13`.\n",
    "\n",
    "- Use `g` to find the slope between `x @ a = -4` and `x @ b = 6`.\n",
    "\n"
   ]
  },
  {
   "cell_type": "code",
   "execution_count": null,
   "metadata": {},
   "outputs": [],
   "source": []
  },
  {
   "cell_type": "markdown",
   "metadata": {},
   "source": [
    "## 2b)\n",
    "\n",
    "Write a function `info(a, b)` that takes two points `(a, f(a))` and `(b, f(b))` where f(x) = x^2 + 5x - 7, and returns three things about the segment between the two points:\n",
    "\n",
    "- Its slope.\n",
    "- Its midpoint.\n",
    "- Its length (Euclidean distance).\n",
    "\n"
   ]
  },
  {
   "cell_type": "code",
   "execution_count": null,
   "metadata": {},
   "outputs": [],
   "source": []
  },
  {
   "cell_type": "markdown",
   "metadata": {},
   "source": [
    "# PROBLEM 3\n",
    "\n",
    "Write a Python program or function that does the following:\n",
    "\n",
    "1. Loads the Stockholm temperature dataset via appropriate `numpy` functions. Use exceptions to trap failure in case the file does not exist.\n",
    "   \n",
    "2. Generate a `numpy` array of the morning temperatures in the Fahrenheit temperature scale. (Note: the temperature was initially in the Celsius scale.)\n",
    "   \n",
    "3. Generate a series plot of the morning temperature in Fahrenheit vs time. Label the title, legend, and axes accordingly.\n",
    "   \n",
    "4. Generate a histogram of the morning temperature in Fahrenheit to reflect the temperature distribution. Label the title, legend, and axes accordingly.\n"
   ]
  },
  {
   "cell_type": "code",
   "execution_count": null,
   "metadata": {},
   "outputs": [],
   "source": []
  },
  {
   "cell_type": "markdown",
   "metadata": {},
   "source": [
    "# PROBLEM 4\n",
    "\n",
    "## Detecting Trends Language on Twitter\n",
    "\n",
    "This subproject will allow you to practice manipulating dictionaries and files in your Python scripts. The goal is to keep track of trendy topics in a sample of Twitter data. You will need two files posted on the course website: `twitter_data.txt`.\n",
    "\n",
    "**WARNING:** Some of the tweets in the sample file actually do contain swear words.\n",
    "\n",
    "### 4a) Detecting Topic Trends on Twitter\n",
    "\n",
    "One of Twitter's services is the ability to track the most popular topics. For this part of the assignment, you will do something similar. Your task is to keep track of the issues identified by users with the hashtag symbol `#`. You will also need to count the frequency of the hashtags you found and provide a ranking of hashtags based on their frequency. \n",
    "\n",
    "The output of your script should be one file, named `top_hashtags.txt`, with the N most popular hashtags, where N is a parameter to your function.\n",
    "\n",
    "For example, assume this is the content of your `twitter_data.txt` file:\n",
    "\n"
   ]
  },
  {
   "cell_type": "code",
   "execution_count": null,
   "metadata": {},
   "outputs": [],
   "source": []
  },
  {
   "cell_type": "markdown",
   "metadata": {},
   "source": [
    "# PROBLEM 5\n",
    "\n",
    "Write a Python program or function that does the following:\n",
    "\n",
    "### 5a) \n",
    "Loads the Stockholm temperature dataset via appropriate `NumPy` functions.\n",
    "\n",
    "### 5b) \n",
    "Generate a `NumPy` array of the average daily temperature (i.e., (morning + afternoon + evening) / 3) in Fahrenheit temperature scale. (Note: the temperature was initially in Celsius scale).\n",
    "\n",
    "### 5c) \n",
    "Generate a series plot of the average daily temperature for the 19th century in Fahrenheit vs. time. Label the title, legend, and axes accordingly.\n",
    "\n",
    "### 5d) \n",
    "Generate a histogram of the average daily temperature in Fahrenheit for the 18th and 20th centuries to reflect the temperature distribution. Label the title, legend, and axes accordingly.\n",
    "\n",
    "### 5e) \n",
    "Split the data into three subgroups based on timeline/periods (i.e., 18th century, 19th century, and 20th century), and save the separated data sets to disk using NumPy's `savecompressed()`. \n",
    "\n",
    "**Hint:** Label the 18th century as `a`, the 19th century as `b`, and the 20th century as `c`.\n"
   ]
  },
  {
   "cell_type": "code",
   "execution_count": null,
   "metadata": {},
   "outputs": [],
   "source": [
    "\n"
   ]
  },
  {
   "cell_type": "markdown",
   "metadata": {},
   "source": [
    "# PROBLEM 6\n",
    "\n",
    "Write a Python program that will find the longest word among several files. The program should print the word or words (sometimes 2 or more words have the highest rank), the number of characters in that word, and the file name.\n",
    "\n",
    "### Hint:\n",
    "You will be using dictionaries, string modules, and files for this exercise. The files for this exercise include:\n",
    "\n",
    "- `tomsawyer.txt`\n",
    "- `a-princess-of-mars.txt`\n",
    "- `great_expectations.txt`\n",
    "- `lorem-ipsum.txt`\n",
    "- `moby-dick.txt`"
   ]
  },
  {
   "cell_type": "code",
   "execution_count": null,
   "metadata": {},
   "outputs": [],
   "source": []
  }
 ],
 "metadata": {
  "kernelspec": {
   "display_name": "Python 3",
   "language": "python",
   "name": "python3"
  },
  "language_info": {
   "codemirror_mode": {
    "name": "ipython",
    "version": 3
   },
   "file_extension": ".py",
   "mimetype": "text/x-python",
   "name": "python",
   "nbconvert_exporter": "python",
   "pygments_lexer": "ipython3",
   "version": "3.12.7"
  }
 },
 "nbformat": 4,
 "nbformat_minor": 2
}
